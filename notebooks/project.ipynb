{
 "cells": [
  {
   "cell_type": "markdown",
   "metadata": {},
   "source": [
    "#  Business Understanding\n",
    "\n",
    "##  Project Overview\n",
    "\n",
    "This project aims to build a predictive model that determines whether a client will subscribe to a **bank term deposit**, based on data collected from direct marketing campaigns conducted via phone calls. The goal is to empower the bank’s marketing team with insights and tools to better target potential subscribers, improve campaign efficiency, and reduce operational costs.\n",
    "\n",
    "---\n",
    "\n",
    "##  Business Problem\n",
    "\n",
    "The bank is investing in direct marketing campaigns, but not all efforts lead to successful conversions. By identifying the characteristics and behaviors of clients who are most likely to subscribe, the bank can focus its resources on high-probability leads — ultimately improving the **Return on Marketing Investment (ROMI)**.\n",
    "\n",
    "---\n",
    "\n",
    "##  Project Goals\n",
    "\n",
    "- **Predict Client Behavior**: Build a machine learning model to predict whether a client will say *“yes”* or *“no”* to subscribing to a term deposit.\n",
    "- **Discover Key Drivers**: Identify and interpret the factors that significantly influence a client's decision to subscribe.\n",
    "- **Support Decision-Making**: Provide actionable recommendations that the marketing team can use to optimize targeting strategies and resource allocation.\n",
    "\n",
    "---\n",
    "\n",
    "##  Success Criteria\n",
    "\n",
    "- A classification model with strong performance, measured by:\n",
    "  - Accuracy\n",
    "  - Precision\n",
    "  - Recall\n",
    "  - F1-Score\n",
    "- A well-documented and reproducible end-to-end analysis using version control.\n",
    "- Business insights that are interpretable and actionable by stakeholders.\n",
    "\n",
    "---\n",
    "\n",
    "##  Key Business Questions\n",
    "\n",
    "1. What are the most influential factors that determine whether a client subscribes?\n",
    "2. Are certain client demographics (age, job, education) more likely to subscribe?\n",
    "3. Does the timing or duration of the last contact influence subscription rates?\n",
    "4. Are previous interactions with the bank predictive of subscription?\n",
    "5. Can we identify client segments with higher subscription potential?\n",
    "\n",
    "---\n",
    "\n",
    "##  Hypothesis Statement\n",
    "\n",
    "**H₀ (Null Hypothesis):** Duration of the last contact has **no significant effect** on a client’s likelihood to subscribe to a term deposit.  \n",
    "**H₁ (Alternative Hypothesis):** Duration of the last contact **significantly affects** a client’s likelihood to subscribe.\n",
    "\n",
    " This hypothesis will be tested using statistical and visual analysis during the EDA phase.\n"
   ]
  },
  {
   "cell_type": "markdown",
   "metadata": {},
   "source": [
    "## Importations"
   ]
  },
  {
   "cell_type": "code",
   "execution_count": 63,
   "metadata": {},
   "outputs": [],
   "source": [
    "#  Core Libraries\n",
    "import numpy as np\n",
    "import pandas as pd\n",
    "import sys\n",
    "import os\n",
    "import xgboost as xgb\n",
    "\n",
    "# Add project root to the Python path so it can find `src`\n",
    "project_root = os.path.abspath(os.path.join(os.getcwd(), '..'))\n",
    "if project_root not in sys.path:\n",
    "    sys.path.append(project_root)\n",
    "\n",
    "#  Visualization Libraries\n",
    "import matplotlib.pyplot as plt\n",
    "import seaborn as sns\n",
    "\n",
    "#  Data Preprocessing\n",
    "from sklearn.preprocessing import LabelEncoder, StandardScaler\n",
    "from sklearn.model_selection import train_test_split, GridSearchCV\n",
    "from sklearn.pipeline import Pipeline\n",
    "from sklearn.model_selection import RandomizedSearchCV\n",
    "\n",
    "#  Modeling\n",
    "from sklearn.linear_model import LogisticRegression\n",
    "from sklearn.ensemble import RandomForestClassifier\n",
    "from xgboost import XGBClassifier\n",
    "from src.data_prep import main as prep_main\n",
    "from scipy.stats import randint, uniform\n",
    "\n",
    "\n",
    "#  Evaluation\n",
    "from sklearn.metrics import (\n",
    "    classification_report,\n",
    "    ConfusionMatrixDisplay,\n",
    "    confusion_matrix,\n",
    "    accuracy_score,\n",
    "    precision_score,\n",
    "    recall_score,\n",
    "    f1_score,\n",
    "    roc_auc_score,\n",
    "    roc_curve\n",
    ")\n",
    "\n",
    "#  Imbalanced Data Handling\n",
    "from imblearn.over_sampling import SMOTE\n",
    "\n",
    "#  Model Persistence\n",
    "import joblib\n",
    "\n",
    "#  General Utilities\n",
    "import warnings\n",
    "warnings.filterwarnings(\"ignore\")\n",
    "\n",
    "#  Statistical Testing & Model Interpretability (Optional but added for completeness)\n",
    "import statsmodels.api as sm  # For hypothesis testing/logistic regression summary\n",
    "import shap  # SHAP values for model explainability\n",
    "import eli5  # Feature importance explanations (works well with sklearn)\n"
   ]
  },
  {
   "cell_type": "markdown",
   "metadata": {},
   "source": [
    "#  Data Understanding"
   ]
  },
  {
   "cell_type": "markdown",
   "metadata": {},
   "source": [
    "## Load Dataset"
   ]
  },
  {
   "cell_type": "code",
   "execution_count": 5,
   "metadata": {},
   "outputs": [],
   "source": [
    "# Load dataset\n",
    "df = pd.read_csv('../data/raw/bank-additional-full.csv', sep=';') "
   ]
  },
  {
   "cell_type": "code",
   "execution_count": 7,
   "metadata": {},
   "outputs": [
    {
     "data": {
      "application/vnd.microsoft.datawrangler.viewer.v0+json": {
       "columns": [
        {
         "name": "index",
         "rawType": "int64",
         "type": "integer"
        },
        {
         "name": "age",
         "rawType": "int64",
         "type": "integer"
        },
        {
         "name": "job",
         "rawType": "object",
         "type": "string"
        },
        {
         "name": "marital",
         "rawType": "object",
         "type": "string"
        },
        {
         "name": "education",
         "rawType": "object",
         "type": "string"
        },
        {
         "name": "default",
         "rawType": "object",
         "type": "string"
        },
        {
         "name": "housing",
         "rawType": "object",
         "type": "string"
        },
        {
         "name": "loan",
         "rawType": "object",
         "type": "string"
        },
        {
         "name": "contact",
         "rawType": "object",
         "type": "string"
        },
        {
         "name": "month",
         "rawType": "object",
         "type": "string"
        },
        {
         "name": "day_of_week",
         "rawType": "object",
         "type": "string"
        },
        {
         "name": "duration",
         "rawType": "int64",
         "type": "integer"
        },
        {
         "name": "campaign",
         "rawType": "int64",
         "type": "integer"
        },
        {
         "name": "pdays",
         "rawType": "int64",
         "type": "integer"
        },
        {
         "name": "previous",
         "rawType": "int64",
         "type": "integer"
        },
        {
         "name": "poutcome",
         "rawType": "object",
         "type": "string"
        },
        {
         "name": "emp.var.rate",
         "rawType": "float64",
         "type": "float"
        },
        {
         "name": "cons.price.idx",
         "rawType": "float64",
         "type": "float"
        },
        {
         "name": "cons.conf.idx",
         "rawType": "float64",
         "type": "float"
        },
        {
         "name": "euribor3m",
         "rawType": "float64",
         "type": "float"
        },
        {
         "name": "nr.employed",
         "rawType": "float64",
         "type": "float"
        },
        {
         "name": "y",
         "rawType": "object",
         "type": "string"
        }
       ],
       "ref": "094862ad-edf4-49db-b34a-45ed021bb297",
       "rows": [
        [
         "0",
         "56",
         "housemaid",
         "married",
         "basic.4y",
         "no",
         "no",
         "no",
         "telephone",
         "may",
         "mon",
         "261",
         "1",
         "999",
         "0",
         "nonexistent",
         "1.1",
         "93.994",
         "-36.4",
         "4.857",
         "5191.0",
         "no"
        ],
        [
         "1",
         "57",
         "services",
         "married",
         "high.school",
         "unknown",
         "no",
         "no",
         "telephone",
         "may",
         "mon",
         "149",
         "1",
         "999",
         "0",
         "nonexistent",
         "1.1",
         "93.994",
         "-36.4",
         "4.857",
         "5191.0",
         "no"
        ],
        [
         "2",
         "37",
         "services",
         "married",
         "high.school",
         "no",
         "yes",
         "no",
         "telephone",
         "may",
         "mon",
         "226",
         "1",
         "999",
         "0",
         "nonexistent",
         "1.1",
         "93.994",
         "-36.4",
         "4.857",
         "5191.0",
         "no"
        ],
        [
         "3",
         "40",
         "admin.",
         "married",
         "basic.6y",
         "no",
         "no",
         "no",
         "telephone",
         "may",
         "mon",
         "151",
         "1",
         "999",
         "0",
         "nonexistent",
         "1.1",
         "93.994",
         "-36.4",
         "4.857",
         "5191.0",
         "no"
        ],
        [
         "4",
         "56",
         "services",
         "married",
         "high.school",
         "no",
         "no",
         "yes",
         "telephone",
         "may",
         "mon",
         "307",
         "1",
         "999",
         "0",
         "nonexistent",
         "1.1",
         "93.994",
         "-36.4",
         "4.857",
         "5191.0",
         "no"
        ]
       ],
       "shape": {
        "columns": 21,
        "rows": 5
       }
      },
      "text/html": [
       "<div>\n",
       "<style scoped>\n",
       "    .dataframe tbody tr th:only-of-type {\n",
       "        vertical-align: middle;\n",
       "    }\n",
       "\n",
       "    .dataframe tbody tr th {\n",
       "        vertical-align: top;\n",
       "    }\n",
       "\n",
       "    .dataframe thead th {\n",
       "        text-align: right;\n",
       "    }\n",
       "</style>\n",
       "<table border=\"1\" class=\"dataframe\">\n",
       "  <thead>\n",
       "    <tr style=\"text-align: right;\">\n",
       "      <th></th>\n",
       "      <th>age</th>\n",
       "      <th>job</th>\n",
       "      <th>marital</th>\n",
       "      <th>education</th>\n",
       "      <th>default</th>\n",
       "      <th>housing</th>\n",
       "      <th>loan</th>\n",
       "      <th>contact</th>\n",
       "      <th>month</th>\n",
       "      <th>day_of_week</th>\n",
       "      <th>...</th>\n",
       "      <th>campaign</th>\n",
       "      <th>pdays</th>\n",
       "      <th>previous</th>\n",
       "      <th>poutcome</th>\n",
       "      <th>emp.var.rate</th>\n",
       "      <th>cons.price.idx</th>\n",
       "      <th>cons.conf.idx</th>\n",
       "      <th>euribor3m</th>\n",
       "      <th>nr.employed</th>\n",
       "      <th>y</th>\n",
       "    </tr>\n",
       "  </thead>\n",
       "  <tbody>\n",
       "    <tr>\n",
       "      <th>0</th>\n",
       "      <td>56</td>\n",
       "      <td>housemaid</td>\n",
       "      <td>married</td>\n",
       "      <td>basic.4y</td>\n",
       "      <td>no</td>\n",
       "      <td>no</td>\n",
       "      <td>no</td>\n",
       "      <td>telephone</td>\n",
       "      <td>may</td>\n",
       "      <td>mon</td>\n",
       "      <td>...</td>\n",
       "      <td>1</td>\n",
       "      <td>999</td>\n",
       "      <td>0</td>\n",
       "      <td>nonexistent</td>\n",
       "      <td>1.1</td>\n",
       "      <td>93.994</td>\n",
       "      <td>-36.4</td>\n",
       "      <td>4.857</td>\n",
       "      <td>5191.0</td>\n",
       "      <td>no</td>\n",
       "    </tr>\n",
       "    <tr>\n",
       "      <th>1</th>\n",
       "      <td>57</td>\n",
       "      <td>services</td>\n",
       "      <td>married</td>\n",
       "      <td>high.school</td>\n",
       "      <td>unknown</td>\n",
       "      <td>no</td>\n",
       "      <td>no</td>\n",
       "      <td>telephone</td>\n",
       "      <td>may</td>\n",
       "      <td>mon</td>\n",
       "      <td>...</td>\n",
       "      <td>1</td>\n",
       "      <td>999</td>\n",
       "      <td>0</td>\n",
       "      <td>nonexistent</td>\n",
       "      <td>1.1</td>\n",
       "      <td>93.994</td>\n",
       "      <td>-36.4</td>\n",
       "      <td>4.857</td>\n",
       "      <td>5191.0</td>\n",
       "      <td>no</td>\n",
       "    </tr>\n",
       "    <tr>\n",
       "      <th>2</th>\n",
       "      <td>37</td>\n",
       "      <td>services</td>\n",
       "      <td>married</td>\n",
       "      <td>high.school</td>\n",
       "      <td>no</td>\n",
       "      <td>yes</td>\n",
       "      <td>no</td>\n",
       "      <td>telephone</td>\n",
       "      <td>may</td>\n",
       "      <td>mon</td>\n",
       "      <td>...</td>\n",
       "      <td>1</td>\n",
       "      <td>999</td>\n",
       "      <td>0</td>\n",
       "      <td>nonexistent</td>\n",
       "      <td>1.1</td>\n",
       "      <td>93.994</td>\n",
       "      <td>-36.4</td>\n",
       "      <td>4.857</td>\n",
       "      <td>5191.0</td>\n",
       "      <td>no</td>\n",
       "    </tr>\n",
       "    <tr>\n",
       "      <th>3</th>\n",
       "      <td>40</td>\n",
       "      <td>admin.</td>\n",
       "      <td>married</td>\n",
       "      <td>basic.6y</td>\n",
       "      <td>no</td>\n",
       "      <td>no</td>\n",
       "      <td>no</td>\n",
       "      <td>telephone</td>\n",
       "      <td>may</td>\n",
       "      <td>mon</td>\n",
       "      <td>...</td>\n",
       "      <td>1</td>\n",
       "      <td>999</td>\n",
       "      <td>0</td>\n",
       "      <td>nonexistent</td>\n",
       "      <td>1.1</td>\n",
       "      <td>93.994</td>\n",
       "      <td>-36.4</td>\n",
       "      <td>4.857</td>\n",
       "      <td>5191.0</td>\n",
       "      <td>no</td>\n",
       "    </tr>\n",
       "    <tr>\n",
       "      <th>4</th>\n",
       "      <td>56</td>\n",
       "      <td>services</td>\n",
       "      <td>married</td>\n",
       "      <td>high.school</td>\n",
       "      <td>no</td>\n",
       "      <td>no</td>\n",
       "      <td>yes</td>\n",
       "      <td>telephone</td>\n",
       "      <td>may</td>\n",
       "      <td>mon</td>\n",
       "      <td>...</td>\n",
       "      <td>1</td>\n",
       "      <td>999</td>\n",
       "      <td>0</td>\n",
       "      <td>nonexistent</td>\n",
       "      <td>1.1</td>\n",
       "      <td>93.994</td>\n",
       "      <td>-36.4</td>\n",
       "      <td>4.857</td>\n",
       "      <td>5191.0</td>\n",
       "      <td>no</td>\n",
       "    </tr>\n",
       "  </tbody>\n",
       "</table>\n",
       "<p>5 rows × 21 columns</p>\n",
       "</div>"
      ],
      "text/plain": [
       "   age        job  marital    education  default housing loan    contact  \\\n",
       "0   56  housemaid  married     basic.4y       no      no   no  telephone   \n",
       "1   57   services  married  high.school  unknown      no   no  telephone   \n",
       "2   37   services  married  high.school       no     yes   no  telephone   \n",
       "3   40     admin.  married     basic.6y       no      no   no  telephone   \n",
       "4   56   services  married  high.school       no      no  yes  telephone   \n",
       "\n",
       "  month day_of_week  ...  campaign  pdays  previous     poutcome emp.var.rate  \\\n",
       "0   may         mon  ...         1    999         0  nonexistent          1.1   \n",
       "1   may         mon  ...         1    999         0  nonexistent          1.1   \n",
       "2   may         mon  ...         1    999         0  nonexistent          1.1   \n",
       "3   may         mon  ...         1    999         0  nonexistent          1.1   \n",
       "4   may         mon  ...         1    999         0  nonexistent          1.1   \n",
       "\n",
       "   cons.price.idx  cons.conf.idx  euribor3m  nr.employed   y  \n",
       "0          93.994          -36.4      4.857       5191.0  no  \n",
       "1          93.994          -36.4      4.857       5191.0  no  \n",
       "2          93.994          -36.4      4.857       5191.0  no  \n",
       "3          93.994          -36.4      4.857       5191.0  no  \n",
       "4          93.994          -36.4      4.857       5191.0  no  \n",
       "\n",
       "[5 rows x 21 columns]"
      ]
     },
     "execution_count": 7,
     "metadata": {},
     "output_type": "execute_result"
    }
   ],
   "source": [
    "# Preview the data\n",
    "df.head()"
   ]
  },
  {
   "cell_type": "code",
   "execution_count": 8,
   "metadata": {},
   "outputs": [
    {
     "name": "stdout",
     "output_type": "stream",
     "text": [
      "Shape: (41188, 21)\n"
     ]
    }
   ],
   "source": [
    "# Check dimensions\n",
    "print(\"Shape:\", df.shape)"
   ]
  },
  {
   "cell_type": "code",
   "execution_count": 9,
   "metadata": {},
   "outputs": [
    {
     "name": "stdout",
     "output_type": "stream",
     "text": [
      "<class 'pandas.core.frame.DataFrame'>\n",
      "RangeIndex: 41188 entries, 0 to 41187\n",
      "Data columns (total 21 columns):\n",
      " #   Column          Non-Null Count  Dtype  \n",
      "---  ------          --------------  -----  \n",
      " 0   age             41188 non-null  int64  \n",
      " 1   job             41188 non-null  object \n",
      " 2   marital         41188 non-null  object \n",
      " 3   education       41188 non-null  object \n",
      " 4   default         41188 non-null  object \n",
      " 5   housing         41188 non-null  object \n",
      " 6   loan            41188 non-null  object \n",
      " 7   contact         41188 non-null  object \n",
      " 8   month           41188 non-null  object \n",
      " 9   day_of_week     41188 non-null  object \n",
      " 10  duration        41188 non-null  int64  \n",
      " 11  campaign        41188 non-null  int64  \n",
      " 12  pdays           41188 non-null  int64  \n",
      " 13  previous        41188 non-null  int64  \n",
      " 14  poutcome        41188 non-null  object \n",
      " 15  emp.var.rate    41188 non-null  float64\n",
      " 16  cons.price.idx  41188 non-null  float64\n",
      " 17  cons.conf.idx   41188 non-null  float64\n",
      " 18  euribor3m       41188 non-null  float64\n",
      " 19  nr.employed     41188 non-null  float64\n",
      " 20  y               41188 non-null  object \n",
      "dtypes: float64(5), int64(5), object(11)\n",
      "memory usage: 6.6+ MB\n"
     ]
    }
   ],
   "source": [
    "# Check data types and non-null counts\n",
    "df.info()"
   ]
  },
  {
   "cell_type": "markdown",
   "metadata": {},
   "source": [
    "### Summary Statistics"
   ]
  },
  {
   "cell_type": "code",
   "execution_count": 10,
   "metadata": {},
   "outputs": [
    {
     "data": {
      "application/vnd.microsoft.datawrangler.viewer.v0+json": {
       "columns": [
        {
         "name": "index",
         "rawType": "object",
         "type": "string"
        },
        {
         "name": "age",
         "rawType": "float64",
         "type": "float"
        },
        {
         "name": "duration",
         "rawType": "float64",
         "type": "float"
        },
        {
         "name": "campaign",
         "rawType": "float64",
         "type": "float"
        },
        {
         "name": "pdays",
         "rawType": "float64",
         "type": "float"
        },
        {
         "name": "previous",
         "rawType": "float64",
         "type": "float"
        },
        {
         "name": "emp.var.rate",
         "rawType": "float64",
         "type": "float"
        },
        {
         "name": "cons.price.idx",
         "rawType": "float64",
         "type": "float"
        },
        {
         "name": "cons.conf.idx",
         "rawType": "float64",
         "type": "float"
        },
        {
         "name": "euribor3m",
         "rawType": "float64",
         "type": "float"
        },
        {
         "name": "nr.employed",
         "rawType": "float64",
         "type": "float"
        }
       ],
       "ref": "c30b27b1-2808-48f4-a871-bc43d234c860",
       "rows": [
        [
         "count",
         "41188.0",
         "41188.0",
         "41188.0",
         "41188.0",
         "41188.0",
         "41188.0",
         "41188.0",
         "41188.0",
         "41188.0",
         "41188.0"
        ],
        [
         "mean",
         "40.02406040594348",
         "258.2850101971448",
         "2.567592502670681",
         "962.4754540157328",
         "0.17296299893172767",
         "0.08188550063125165",
         "93.57566436826262",
         "-40.50260027192386",
         "3.621290812858114",
         "5167.035910944936"
        ],
        [
         "std",
         "10.421249980934048",
         "259.2792488364648",
         "2.7700135429023276",
         "186.9109073447418",
         "0.4949010798392897",
         "1.5709597405170255",
         "0.5788400489541262",
         "4.628197856174544",
         "1.734447404851267",
         "72.25152766826108"
        ],
        [
         "min",
         "17.0",
         "0.0",
         "1.0",
         "0.0",
         "0.0",
         "-3.4",
         "92.201",
         "-50.8",
         "0.634",
         "4963.6"
        ],
        [
         "25%",
         "32.0",
         "102.0",
         "1.0",
         "999.0",
         "0.0",
         "-1.8",
         "93.075",
         "-42.7",
         "1.344",
         "5099.1"
        ],
        [
         "50%",
         "38.0",
         "180.0",
         "2.0",
         "999.0",
         "0.0",
         "1.1",
         "93.749",
         "-41.8",
         "4.857",
         "5191.0"
        ],
        [
         "75%",
         "47.0",
         "319.0",
         "3.0",
         "999.0",
         "0.0",
         "1.4",
         "93.994",
         "-36.4",
         "4.961",
         "5228.1"
        ],
        [
         "max",
         "98.0",
         "4918.0",
         "56.0",
         "999.0",
         "7.0",
         "1.4",
         "94.767",
         "-26.9",
         "5.045",
         "5228.1"
        ]
       ],
       "shape": {
        "columns": 10,
        "rows": 8
       }
      },
      "text/html": [
       "<div>\n",
       "<style scoped>\n",
       "    .dataframe tbody tr th:only-of-type {\n",
       "        vertical-align: middle;\n",
       "    }\n",
       "\n",
       "    .dataframe tbody tr th {\n",
       "        vertical-align: top;\n",
       "    }\n",
       "\n",
       "    .dataframe thead th {\n",
       "        text-align: right;\n",
       "    }\n",
       "</style>\n",
       "<table border=\"1\" class=\"dataframe\">\n",
       "  <thead>\n",
       "    <tr style=\"text-align: right;\">\n",
       "      <th></th>\n",
       "      <th>age</th>\n",
       "      <th>duration</th>\n",
       "      <th>campaign</th>\n",
       "      <th>pdays</th>\n",
       "      <th>previous</th>\n",
       "      <th>emp.var.rate</th>\n",
       "      <th>cons.price.idx</th>\n",
       "      <th>cons.conf.idx</th>\n",
       "      <th>euribor3m</th>\n",
       "      <th>nr.employed</th>\n",
       "    </tr>\n",
       "  </thead>\n",
       "  <tbody>\n",
       "    <tr>\n",
       "      <th>count</th>\n",
       "      <td>41188.00000</td>\n",
       "      <td>41188.000000</td>\n",
       "      <td>41188.000000</td>\n",
       "      <td>41188.000000</td>\n",
       "      <td>41188.000000</td>\n",
       "      <td>41188.000000</td>\n",
       "      <td>41188.000000</td>\n",
       "      <td>41188.000000</td>\n",
       "      <td>41188.000000</td>\n",
       "      <td>41188.000000</td>\n",
       "    </tr>\n",
       "    <tr>\n",
       "      <th>mean</th>\n",
       "      <td>40.02406</td>\n",
       "      <td>258.285010</td>\n",
       "      <td>2.567593</td>\n",
       "      <td>962.475454</td>\n",
       "      <td>0.172963</td>\n",
       "      <td>0.081886</td>\n",
       "      <td>93.575664</td>\n",
       "      <td>-40.502600</td>\n",
       "      <td>3.621291</td>\n",
       "      <td>5167.035911</td>\n",
       "    </tr>\n",
       "    <tr>\n",
       "      <th>std</th>\n",
       "      <td>10.42125</td>\n",
       "      <td>259.279249</td>\n",
       "      <td>2.770014</td>\n",
       "      <td>186.910907</td>\n",
       "      <td>0.494901</td>\n",
       "      <td>1.570960</td>\n",
       "      <td>0.578840</td>\n",
       "      <td>4.628198</td>\n",
       "      <td>1.734447</td>\n",
       "      <td>72.251528</td>\n",
       "    </tr>\n",
       "    <tr>\n",
       "      <th>min</th>\n",
       "      <td>17.00000</td>\n",
       "      <td>0.000000</td>\n",
       "      <td>1.000000</td>\n",
       "      <td>0.000000</td>\n",
       "      <td>0.000000</td>\n",
       "      <td>-3.400000</td>\n",
       "      <td>92.201000</td>\n",
       "      <td>-50.800000</td>\n",
       "      <td>0.634000</td>\n",
       "      <td>4963.600000</td>\n",
       "    </tr>\n",
       "    <tr>\n",
       "      <th>25%</th>\n",
       "      <td>32.00000</td>\n",
       "      <td>102.000000</td>\n",
       "      <td>1.000000</td>\n",
       "      <td>999.000000</td>\n",
       "      <td>0.000000</td>\n",
       "      <td>-1.800000</td>\n",
       "      <td>93.075000</td>\n",
       "      <td>-42.700000</td>\n",
       "      <td>1.344000</td>\n",
       "      <td>5099.100000</td>\n",
       "    </tr>\n",
       "    <tr>\n",
       "      <th>50%</th>\n",
       "      <td>38.00000</td>\n",
       "      <td>180.000000</td>\n",
       "      <td>2.000000</td>\n",
       "      <td>999.000000</td>\n",
       "      <td>0.000000</td>\n",
       "      <td>1.100000</td>\n",
       "      <td>93.749000</td>\n",
       "      <td>-41.800000</td>\n",
       "      <td>4.857000</td>\n",
       "      <td>5191.000000</td>\n",
       "    </tr>\n",
       "    <tr>\n",
       "      <th>75%</th>\n",
       "      <td>47.00000</td>\n",
       "      <td>319.000000</td>\n",
       "      <td>3.000000</td>\n",
       "      <td>999.000000</td>\n",
       "      <td>0.000000</td>\n",
       "      <td>1.400000</td>\n",
       "      <td>93.994000</td>\n",
       "      <td>-36.400000</td>\n",
       "      <td>4.961000</td>\n",
       "      <td>5228.100000</td>\n",
       "    </tr>\n",
       "    <tr>\n",
       "      <th>max</th>\n",
       "      <td>98.00000</td>\n",
       "      <td>4918.000000</td>\n",
       "      <td>56.000000</td>\n",
       "      <td>999.000000</td>\n",
       "      <td>7.000000</td>\n",
       "      <td>1.400000</td>\n",
       "      <td>94.767000</td>\n",
       "      <td>-26.900000</td>\n",
       "      <td>5.045000</td>\n",
       "      <td>5228.100000</td>\n",
       "    </tr>\n",
       "  </tbody>\n",
       "</table>\n",
       "</div>"
      ],
      "text/plain": [
       "               age      duration      campaign         pdays      previous  \\\n",
       "count  41188.00000  41188.000000  41188.000000  41188.000000  41188.000000   \n",
       "mean      40.02406    258.285010      2.567593    962.475454      0.172963   \n",
       "std       10.42125    259.279249      2.770014    186.910907      0.494901   \n",
       "min       17.00000      0.000000      1.000000      0.000000      0.000000   \n",
       "25%       32.00000    102.000000      1.000000    999.000000      0.000000   \n",
       "50%       38.00000    180.000000      2.000000    999.000000      0.000000   \n",
       "75%       47.00000    319.000000      3.000000    999.000000      0.000000   \n",
       "max       98.00000   4918.000000     56.000000    999.000000      7.000000   \n",
       "\n",
       "       emp.var.rate  cons.price.idx  cons.conf.idx     euribor3m   nr.employed  \n",
       "count  41188.000000    41188.000000   41188.000000  41188.000000  41188.000000  \n",
       "mean       0.081886       93.575664     -40.502600      3.621291   5167.035911  \n",
       "std        1.570960        0.578840       4.628198      1.734447     72.251528  \n",
       "min       -3.400000       92.201000     -50.800000      0.634000   4963.600000  \n",
       "25%       -1.800000       93.075000     -42.700000      1.344000   5099.100000  \n",
       "50%        1.100000       93.749000     -41.800000      4.857000   5191.000000  \n",
       "75%        1.400000       93.994000     -36.400000      4.961000   5228.100000  \n",
       "max        1.400000       94.767000     -26.900000      5.045000   5228.100000  "
      ]
     },
     "execution_count": 10,
     "metadata": {},
     "output_type": "execute_result"
    }
   ],
   "source": [
    "# Numerical summary\n",
    "df.describe()"
   ]
  },
  {
   "cell_type": "code",
   "execution_count": 11,
   "metadata": {},
   "outputs": [
    {
     "data": {
      "application/vnd.microsoft.datawrangler.viewer.v0+json": {
       "columns": [
        {
         "name": "index",
         "rawType": "object",
         "type": "string"
        },
        {
         "name": "job",
         "rawType": "object",
         "type": "unknown"
        },
        {
         "name": "marital",
         "rawType": "object",
         "type": "unknown"
        },
        {
         "name": "education",
         "rawType": "object",
         "type": "unknown"
        },
        {
         "name": "default",
         "rawType": "object",
         "type": "unknown"
        },
        {
         "name": "housing",
         "rawType": "object",
         "type": "unknown"
        },
        {
         "name": "loan",
         "rawType": "object",
         "type": "unknown"
        },
        {
         "name": "contact",
         "rawType": "object",
         "type": "unknown"
        },
        {
         "name": "month",
         "rawType": "object",
         "type": "unknown"
        },
        {
         "name": "day_of_week",
         "rawType": "object",
         "type": "unknown"
        },
        {
         "name": "poutcome",
         "rawType": "object",
         "type": "unknown"
        },
        {
         "name": "y",
         "rawType": "object",
         "type": "unknown"
        }
       ],
       "ref": "9dc704bf-a6c5-4f8a-94dd-95b3cb6110e1",
       "rows": [
        [
         "count",
         "41188",
         "41188",
         "41188",
         "41188",
         "41188",
         "41188",
         "41188",
         "41188",
         "41188",
         "41188",
         "41188"
        ],
        [
         "unique",
         "12",
         "4",
         "8",
         "3",
         "3",
         "3",
         "2",
         "10",
         "5",
         "3",
         "2"
        ],
        [
         "top",
         "admin.",
         "married",
         "university.degree",
         "no",
         "yes",
         "no",
         "cellular",
         "may",
         "thu",
         "nonexistent",
         "no"
        ],
        [
         "freq",
         "10422",
         "24928",
         "12168",
         "32588",
         "21576",
         "33950",
         "26144",
         "13769",
         "8623",
         "35563",
         "36548"
        ]
       ],
       "shape": {
        "columns": 11,
        "rows": 4
       }
      },
      "text/html": [
       "<div>\n",
       "<style scoped>\n",
       "    .dataframe tbody tr th:only-of-type {\n",
       "        vertical-align: middle;\n",
       "    }\n",
       "\n",
       "    .dataframe tbody tr th {\n",
       "        vertical-align: top;\n",
       "    }\n",
       "\n",
       "    .dataframe thead th {\n",
       "        text-align: right;\n",
       "    }\n",
       "</style>\n",
       "<table border=\"1\" class=\"dataframe\">\n",
       "  <thead>\n",
       "    <tr style=\"text-align: right;\">\n",
       "      <th></th>\n",
       "      <th>job</th>\n",
       "      <th>marital</th>\n",
       "      <th>education</th>\n",
       "      <th>default</th>\n",
       "      <th>housing</th>\n",
       "      <th>loan</th>\n",
       "      <th>contact</th>\n",
       "      <th>month</th>\n",
       "      <th>day_of_week</th>\n",
       "      <th>poutcome</th>\n",
       "      <th>y</th>\n",
       "    </tr>\n",
       "  </thead>\n",
       "  <tbody>\n",
       "    <tr>\n",
       "      <th>count</th>\n",
       "      <td>41188</td>\n",
       "      <td>41188</td>\n",
       "      <td>41188</td>\n",
       "      <td>41188</td>\n",
       "      <td>41188</td>\n",
       "      <td>41188</td>\n",
       "      <td>41188</td>\n",
       "      <td>41188</td>\n",
       "      <td>41188</td>\n",
       "      <td>41188</td>\n",
       "      <td>41188</td>\n",
       "    </tr>\n",
       "    <tr>\n",
       "      <th>unique</th>\n",
       "      <td>12</td>\n",
       "      <td>4</td>\n",
       "      <td>8</td>\n",
       "      <td>3</td>\n",
       "      <td>3</td>\n",
       "      <td>3</td>\n",
       "      <td>2</td>\n",
       "      <td>10</td>\n",
       "      <td>5</td>\n",
       "      <td>3</td>\n",
       "      <td>2</td>\n",
       "    </tr>\n",
       "    <tr>\n",
       "      <th>top</th>\n",
       "      <td>admin.</td>\n",
       "      <td>married</td>\n",
       "      <td>university.degree</td>\n",
       "      <td>no</td>\n",
       "      <td>yes</td>\n",
       "      <td>no</td>\n",
       "      <td>cellular</td>\n",
       "      <td>may</td>\n",
       "      <td>thu</td>\n",
       "      <td>nonexistent</td>\n",
       "      <td>no</td>\n",
       "    </tr>\n",
       "    <tr>\n",
       "      <th>freq</th>\n",
       "      <td>10422</td>\n",
       "      <td>24928</td>\n",
       "      <td>12168</td>\n",
       "      <td>32588</td>\n",
       "      <td>21576</td>\n",
       "      <td>33950</td>\n",
       "      <td>26144</td>\n",
       "      <td>13769</td>\n",
       "      <td>8623</td>\n",
       "      <td>35563</td>\n",
       "      <td>36548</td>\n",
       "    </tr>\n",
       "  </tbody>\n",
       "</table>\n",
       "</div>"
      ],
      "text/plain": [
       "           job  marital          education default housing   loan   contact  \\\n",
       "count    41188    41188              41188   41188   41188  41188     41188   \n",
       "unique      12        4                  8       3       3      3         2   \n",
       "top     admin.  married  university.degree      no     yes     no  cellular   \n",
       "freq     10422    24928              12168   32588   21576  33950     26144   \n",
       "\n",
       "        month day_of_week     poutcome      y  \n",
       "count   41188       41188        41188  41188  \n",
       "unique     10           5            3      2  \n",
       "top       may         thu  nonexistent     no  \n",
       "freq    13769        8623        35563  36548  "
      ]
     },
     "execution_count": 11,
     "metadata": {},
     "output_type": "execute_result"
    }
   ],
   "source": [
    "# Categorical summary\n",
    "df.describe(include='object')"
   ]
  },
  {
   "cell_type": "markdown",
   "metadata": {},
   "source": [
    "### Checking for Missing Values"
   ]
  },
  {
   "cell_type": "code",
   "execution_count": 13,
   "metadata": {},
   "outputs": [
    {
     "data": {
      "application/vnd.microsoft.datawrangler.viewer.v0+json": {
       "columns": [
        {
         "name": "index",
         "rawType": "object",
         "type": "string"
        },
        {
         "name": "0",
         "rawType": "int64",
         "type": "integer"
        }
       ],
       "ref": "b70d00a4-ec48-440d-820c-de2b252ee144",
       "rows": [
        [
         "age",
         "0"
        ],
        [
         "job",
         "0"
        ],
        [
         "marital",
         "0"
        ],
        [
         "education",
         "0"
        ],
        [
         "default",
         "0"
        ],
        [
         "housing",
         "0"
        ],
        [
         "loan",
         "0"
        ],
        [
         "contact",
         "0"
        ],
        [
         "month",
         "0"
        ],
        [
         "day_of_week",
         "0"
        ],
        [
         "duration",
         "0"
        ],
        [
         "campaign",
         "0"
        ],
        [
         "pdays",
         "0"
        ],
        [
         "previous",
         "0"
        ],
        [
         "poutcome",
         "0"
        ],
        [
         "emp.var.rate",
         "0"
        ],
        [
         "cons.price.idx",
         "0"
        ],
        [
         "cons.conf.idx",
         "0"
        ],
        [
         "euribor3m",
         "0"
        ],
        [
         "nr.employed",
         "0"
        ],
        [
         "y",
         "0"
        ]
       ],
       "shape": {
        "columns": 1,
        "rows": 21
       }
      },
      "text/plain": [
       "age               0\n",
       "job               0\n",
       "marital           0\n",
       "education         0\n",
       "default           0\n",
       "housing           0\n",
       "loan              0\n",
       "contact           0\n",
       "month             0\n",
       "day_of_week       0\n",
       "duration          0\n",
       "campaign          0\n",
       "pdays             0\n",
       "previous          0\n",
       "poutcome          0\n",
       "emp.var.rate      0\n",
       "cons.price.idx    0\n",
       "cons.conf.idx     0\n",
       "euribor3m         0\n",
       "nr.employed       0\n",
       "y                 0\n",
       "dtype: int64"
      ]
     },
     "execution_count": 13,
     "metadata": {},
     "output_type": "execute_result"
    }
   ],
   "source": [
    "# Total missing values per column\n",
    "df.isnull().sum()"
   ]
  },
  {
   "cell_type": "markdown",
   "metadata": {},
   "source": [
    "### Check for Duplicates"
   ]
  },
  {
   "cell_type": "code",
   "execution_count": 15,
   "metadata": {},
   "outputs": [
    {
     "name": "stdout",
     "output_type": "stream",
     "text": [
      "Number of duplicate rows: 12\n"
     ]
    }
   ],
   "source": [
    "# Check duplicate rows count\n",
    "duplicates_count = df.duplicated().sum()\n",
    "print(f\"Number of duplicate rows: {duplicates_count}\")\n"
   ]
  },
  {
   "cell_type": "code",
   "execution_count": null,
   "metadata": {},
   "outputs": [],
   "source": [
    "# Remove duplicates\n",
    "df = df.drop_duplicates()"
   ]
  },
  {
   "cell_type": "code",
   "execution_count": 17,
   "metadata": {},
   "outputs": [
    {
     "name": "stdout",
     "output_type": "stream",
     "text": [
      "y\n",
      "no     36537\n",
      "yes     4639\n",
      "Name: count, dtype: int64\n"
     ]
    }
   ],
   "source": [
    "#  Balance check\n",
    "print(df['y'].value_counts())"
   ]
  },
  {
   "cell_type": "code",
   "execution_count": 19,
   "metadata": {},
   "outputs": [
    {
     "data": {
      "image/png": "[encoded data removed]",
      "text/plain": [
       "<Figure size 600x400 with 1 Axes>"
      ]
     },
     "metadata": {},
     "output_type": "display_data"
    }
   ],
   "source": [
    "ax = df['y'].value_counts().plot(kind='bar', title='Target Variable Distribution', figsize=(6,4))\n",
    "for p in ax.patches:\n",
    "    height = p.get_height()\n",
    "    ax.annotate(f'{int(height)}', (p.get_x() + p.get_width() / 2, height), \n",
    "                ha='center', va='bottom')\n",
    "\n",
    "plt.show()"
   ]
  },
  {
   "cell_type": "code",
   "execution_count": 20,
   "metadata": {},
   "outputs": [
    {
     "name": "stdout",
     "output_type": "stream",
     "text": [
      "           duration      campaign\n",
      "count  41176.000000  41176.000000\n",
      "mean     258.315815      2.567879\n",
      "std      259.305321      2.770318\n",
      "min        0.000000      1.000000\n",
      "25%      102.000000      1.000000\n",
      "50%      180.000000      2.000000\n",
      "75%      319.000000      3.000000\n",
      "max     4918.000000     56.000000\n"
     ]
    }
   ],
   "source": [
    "print(df[['duration', 'campaign']].describe())"
   ]
  },
  {
   "cell_type": "code",
   "execution_count": 21,
   "metadata": {},
   "outputs": [
    {
     "data": {
      "image/png": "[encoded data removed]",
      "text/plain": [
       "<Figure size 1000x600 with 1 Axes>"
      ]
     },
     "metadata": {},
     "output_type": "display_data"
    },
    {
     "data": {
      "image/png": "[encoded data removed]",
      "text/plain": [
       "<Figure size 1000x600 with 1 Axes>"
      ]
     },
     "metadata": {},
     "output_type": "display_data"
    }
   ],
   "source": [
    "def plot_hist_with_counts(df, column, bins=30, limit=None):\n",
    "    data = df[column]\n",
    "    if limit:\n",
    "        data = data[data <= limit]\n",
    "    \n",
    "    plt.figure(figsize=(10,6))\n",
    "    ax = sns.histplot(data, bins=bins, kde=False)\n",
    "    \n",
    "    # Add count labels on bars\n",
    "    for p in ax.patches:\n",
    "        height = p.get_height()\n",
    "        if height > 0:\n",
    "            ax.annotate(f'{int(height)}', (p.get_x() + p.get_width() / 2., height),\n",
    "                        ha='center', va='bottom', fontsize=9, rotation=90)\n",
    "    \n",
    "    plt.title(f'Distribution of {column} (limited to {limit} if set)')\n",
    "    plt.xlabel(column)\n",
    "    plt.ylabel('Count')\n",
    "    plt.show()\n",
    "\n",
    "# Plot duration (limit to 1000 for better view)\n",
    "plot_hist_with_counts(df, 'duration', bins=50, limit=1000)\n",
    "\n",
    "# Plot campaign (limit to 10)\n",
    "plot_hist_with_counts(df, 'campaign', bins=15, limit=10)"
   ]
  },
  {
   "cell_type": "markdown",
   "metadata": {},
   "source": [
    "#### The above shows:\n",
    "\n",
    "A right-skewed distribution for both variables.\n",
    "\n",
    "Most customers were contacted for a short duration and few times (low campaign count)."
   ]
  },
  {
   "cell_type": "markdown",
   "metadata": {},
   "source": [
    "#### Dive into pdays"
   ]
  },
  {
   "cell_type": "code",
   "execution_count": 22,
   "metadata": {},
   "outputs": [
    {
     "data": {
      "application/vnd.microsoft.datawrangler.viewer.v0+json": {
       "columns": [
        {
         "name": "index",
         "rawType": "object",
         "type": "string"
        },
        {
         "name": "pdays",
         "rawType": "float64",
         "type": "float"
        }
       ],
       "ref": "3f00695d-dcbc-45c2-8939-04daff16740f",
       "rows": [
        [
         "count",
         "41176.0"
        ],
        [
         "mean",
         "962.464809597824"
        ],
        [
         "std",
         "186.9371017219995"
        ],
        [
         "min",
         "0.0"
        ],
        [
         "25%",
         "999.0"
        ],
        [
         "50%",
         "999.0"
        ],
        [
         "75%",
         "999.0"
        ],
        [
         "max",
         "999.0"
        ]
       ],
       "shape": {
        "columns": 1,
        "rows": 8
       }
      },
      "text/plain": [
       "count    41176.000000\n",
       "mean       962.464810\n",
       "std        186.937102\n",
       "min          0.000000\n",
       "25%        999.000000\n",
       "50%        999.000000\n",
       "75%        999.000000\n",
       "max        999.000000\n",
       "Name: pdays, dtype: float64"
      ]
     },
     "execution_count": 22,
     "metadata": {},
     "output_type": "execute_result"
    }
   ],
   "source": [
    "df['pdays'].describe()"
   ]
  },
  {
   "cell_type": "code",
   "execution_count": 23,
   "metadata": {},
   "outputs": [
    {
     "data": {
      "application/vnd.microsoft.datawrangler.viewer.v0+json": {
       "columns": [
        {
         "name": "pdays",
         "rawType": "int64",
         "type": "integer"
        },
        {
         "name": "count",
         "rawType": "int64",
         "type": "integer"
        }
       ],
       "ref": "d5e21130-30d1-4719-92d4-9f0be38e6298",
       "rows": [
        [
         "0",
         "15"
        ],
        [
         "1",
         "26"
        ],
        [
         "2",
         "61"
        ],
        [
         "3",
         "439"
        ],
        [
         "4",
         "118"
        ],
        [
         "5",
         "46"
        ],
        [
         "6",
         "412"
        ],
        [
         "7",
         "60"
        ],
        [
         "8",
         "18"
        ],
        [
         "9",
         "64"
        ],
        [
         "10",
         "52"
        ],
        [
         "11",
         "28"
        ],
        [
         "12",
         "58"
        ],
        [
         "13",
         "36"
        ],
        [
         "14",
         "20"
        ],
        [
         "15",
         "24"
        ],
        [
         "16",
         "11"
        ],
        [
         "17",
         "8"
        ],
        [
         "18",
         "7"
        ],
        [
         "19",
         "3"
        ],
        [
         "20",
         "1"
        ],
        [
         "21",
         "2"
        ],
        [
         "22",
         "3"
        ],
        [
         "25",
         "1"
        ],
        [
         "26",
         "1"
        ],
        [
         "27",
         "1"
        ],
        [
         "999",
         "39661"
        ]
       ],
       "shape": {
        "columns": 1,
        "rows": 27
       }
      },
      "text/plain": [
       "pdays\n",
       "0         15\n",
       "1         26\n",
       "2         61\n",
       "3        439\n",
       "4        118\n",
       "5         46\n",
       "6        412\n",
       "7         60\n",
       "8         18\n",
       "9         64\n",
       "10        52\n",
       "11        28\n",
       "12        58\n",
       "13        36\n",
       "14        20\n",
       "15        24\n",
       "16        11\n",
       "17         8\n",
       "18         7\n",
       "19         3\n",
       "20         1\n",
       "21         2\n",
       "22         3\n",
       "25         1\n",
       "26         1\n",
       "27         1\n",
       "999    39661\n",
       "Name: count, dtype: int64"
      ]
     },
     "execution_count": 23,
     "metadata": {},
     "output_type": "execute_result"
    }
   ],
   "source": [
    "df['pdays'].value_counts().sort_index()"
   ]
  },
  {
   "cell_type": "markdown",
   "metadata": {},
   "source": [
    "####  Interpretation:\n",
    "Value 999 appears 39,661 times, which is 96.3% of the dataset. This represents clients not previously contacted.\n",
    "\n",
    "All other values (0–27) are actual numbers of days since the client was last contacted in a previous campaign."
   ]
  },
  {
   "cell_type": "markdown",
   "metadata": {},
   "source": [
    "### New Binary Feature"
   ]
  },
  {
   "cell_type": "code",
   "execution_count": 24,
   "metadata": {},
   "outputs": [],
   "source": [
    "df['was_previously_contacted'] = df['pdays'].apply(lambda x: 0 if x == 999 else 1)\n"
   ]
  },
  {
   "cell_type": "code",
   "execution_count": 25,
   "metadata": {},
   "outputs": [
    {
     "data": {
      "image/png": "[encoded data removed]",
      "text/plain": [
       "<Figure size 1000x500 with 1 Axes>"
      ]
     },
     "metadata": {},
     "output_type": "display_data"
    }
   ],
   "source": [
    "# Filter out 999 values\n",
    "pdays_valid = df[df['pdays'] != 999]['pdays']\n",
    "\n",
    "plt.figure(figsize=(10, 5))\n",
    "sns.histplot(pdays_valid, bins=30, kde=False, color='skyblue')\n",
    "plt.title('Distribution of pdays (excluding 999)')\n",
    "plt.xlabel('Days since last contact')\n",
    "plt.ylabel('Count')\n",
    "\n",
    "# Annotate bars\n",
    "counts, bin_edges = np.histogram(pdays_valid, bins=30)\n",
    "for i in range(len(counts)):\n",
    "    plt.text((bin_edges[i] + bin_edges[i+1]) / 2, counts[i], str(counts[i]), ha='center', va='bottom', fontsize=8)\n",
    "\n",
    "plt.tight_layout()\n",
    "plt.show()"
   ]
  },
  {
   "cell_type": "markdown",
   "metadata": {},
   "source": [
    "#### Visualize binary feature"
   ]
  },
  {
   "cell_type": "code",
   "execution_count": 26,
   "metadata": {},
   "outputs": [
    {
     "data": {
      "image/png": "[encoded data removed]",
      "text/plain": [
       "<Figure size 500x400 with 1 Axes>"
      ]
     },
     "metadata": {},
     "output_type": "display_data"
    }
   ],
   "source": [
    "\n",
    "plt.figure(figsize=(5, 4))\n",
    "sns.countplot(x='was_previously_contacted', data=df, palette='Set2')\n",
    "\n",
    "for i, count in enumerate(df['was_previously_contacted'].value_counts().sort_index()):\n",
    "    plt.text(i, count + 300, str(count), ha='center')\n",
    "\n",
    "plt.title('Was Previously Contacted (based on pdays)')\n",
    "plt.xlabel('Previously Contacted (1=Yes, 0=No)')\n",
    "plt.ylabel('Count')\n",
    "plt.tight_layout()\n",
    "plt.show()"
   ]
  },
  {
   "cell_type": "code",
   "execution_count": 27,
   "metadata": {},
   "outputs": [
    {
     "data": {
      "image/png": "[encoded data removed]",
      "text/plain": [
       "<Figure size 800x500 with 1 Axes>"
      ]
     },
     "metadata": {},
     "output_type": "display_data"
    }
   ],
   "source": [
    "# Filter out 999 and group\n",
    "contacted = df[df['pdays'] != 999]\n",
    "contacted['pdays_group'] = pd.cut(contacted['pdays'], bins=[-1, 5, 10, 15, 25, 999], \n",
    "                                  labels=['0-5', '6-10', '11-15', '16-25', '26+'])\n",
    "\n",
    "# Plot conversion rate by pdays group\n",
    "conversion_rates = contacted.groupby('pdays_group')['y'].value_counts(normalize=True).unstack().fillna(0)\n",
    "\n",
    "conversion_rates.plot(kind='bar', stacked=True, color=['lightcoral', 'mediumseagreen'], figsize=(8,5))\n",
    "plt.title('Conversion Rate by Days Since Last Contact')\n",
    "plt.xlabel('Days Since Last Contact Group')\n",
    "plt.ylabel('Proportion')\n",
    "plt.legend(title='Subscribed', labels=['No', 'Yes'])\n",
    "plt.xticks(rotation=0)\n",
    "plt.tight_layout()\n",
    "plt.show()"
   ]
  },
  {
   "cell_type": "markdown",
   "metadata": {},
   "source": []
  },
  {
   "cell_type": "markdown",
   "metadata": {},
   "source": [
    "#### Final Takeaways on pdays:\n",
    "999 = client wasn't contacted before.\n",
    "\n",
    "Only ~3.7% (1,515 out of 41,176) were previously contacted (pdays ≠ 999).\n",
    "\n",
    "Most prior contacts occurred 5–6 days before the current campaign.\n",
    "\n",
    "Knowing whether a client was previously contacted (and when) can help segment the audience, but this variable has limited variance due to the dominance of 999."
   ]
  },
  {
   "cell_type": "markdown",
   "metadata": {},
   "source": [
    "### Dive into Duration"
   ]
  },
  {
   "cell_type": "code",
   "execution_count": 28,
   "metadata": {},
   "outputs": [
    {
     "name": "stdout",
     "output_type": "stream",
     "text": [
      "count    41176.000000\n",
      "mean       258.315815\n",
      "std        259.305321\n",
      "min          0.000000\n",
      "25%        102.000000\n",
      "50%        180.000000\n",
      "75%        319.000000\n",
      "max       4918.000000\n",
      "Name: duration, dtype: float64\n"
     ]
    }
   ],
   "source": [
    "print(df['duration'].describe())\n"
   ]
  },
  {
   "cell_type": "code",
   "execution_count": 29,
   "metadata": {},
   "outputs": [
    {
     "data": {
      "image/png": "[encoded data removed]",
      "text/plain": [
       "<Figure size 1000x500 with 1 Axes>"
      ]
     },
     "metadata": {},
     "output_type": "display_data"
    }
   ],
   "source": [
    "# Create bins for duration\n",
    "bins = [0, 60, 120, 180, 240, 300, 600, 1200, 5000]\n",
    "labels = ['0-1min', '1-2min', '2-3min', '3-4min', '4-5min', '5-10min', '10-20min', '20min+']\n",
    "df['duration_bin'] = pd.cut(df['duration'], bins=bins, labels=labels, right=False)\n",
    "\n",
    "# Group by duration bins and calculate subscription rate\n",
    "bin_summary = df.groupby('duration_bin')['y'].value_counts(normalize=True).unstack().fillna(0)\n",
    "bin_summary['subscription_rate'] = bin_summary['yes'] * 100  # percentage\n",
    "\n",
    "# Plot\n",
    "bin_summary['subscription_rate'].plot(kind='bar', color='mediumseagreen', figsize=(10,5))\n",
    "plt.title(\"Subscription Rate by Call Duration\")\n",
    "plt.ylabel(\"Subscription Rate (%)\")\n",
    "plt.xlabel(\"Call Duration\")\n",
    "plt.grid(True, axis='y', linestyle='--', alpha=0.7)\n",
    "plt.xticks(rotation=45)\n",
    "plt.tight_layout()\n",
    "plt.show()"
   ]
  },
  {
   "cell_type": "markdown",
   "metadata": {},
   "source": [
    "#### Correlation"
   ]
  },
  {
   "cell_type": "code",
   "execution_count": 30,
   "metadata": {},
   "outputs": [
    {
     "data": {
      "application/vnd.microsoft.datawrangler.viewer.v0+json": {
       "columns": [
        {
         "name": "index",
         "rawType": "object",
         "type": "string"
        },
        {
         "name": "duration",
         "rawType": "float64",
         "type": "float"
        },
        {
         "name": "y_binary",
         "rawType": "float64",
         "type": "float"
        }
       ],
       "ref": "3e10890c-a267-47d4-9cd4-8215b89f1158",
       "rows": [
        [
         "duration",
         "1.0",
         "0.4052972612685261"
        ],
        [
         "y_binary",
         "0.4052972612685261",
         "1.0"
        ]
       ],
       "shape": {
        "columns": 2,
        "rows": 2
       }
      },
      "text/html": [
       "<div>\n",
       "<style scoped>\n",
       "    .dataframe tbody tr th:only-of-type {\n",
       "        vertical-align: middle;\n",
       "    }\n",
       "\n",
       "    .dataframe tbody tr th {\n",
       "        vertical-align: top;\n",
       "    }\n",
       "\n",
       "    .dataframe thead th {\n",
       "        text-align: right;\n",
       "    }\n",
       "</style>\n",
       "<table border=\"1\" class=\"dataframe\">\n",
       "  <thead>\n",
       "    <tr style=\"text-align: right;\">\n",
       "      <th></th>\n",
       "      <th>duration</th>\n",
       "      <th>y_binary</th>\n",
       "    </tr>\n",
       "  </thead>\n",
       "  <tbody>\n",
       "    <tr>\n",
       "      <th>duration</th>\n",
       "      <td>1.000000</td>\n",
       "      <td>0.405297</td>\n",
       "    </tr>\n",
       "    <tr>\n",
       "      <th>y_binary</th>\n",
       "      <td>0.405297</td>\n",
       "      <td>1.000000</td>\n",
       "    </tr>\n",
       "  </tbody>\n",
       "</table>\n",
       "</div>"
      ],
      "text/plain": [
       "          duration  y_binary\n",
       "duration  1.000000  0.405297\n",
       "y_binary  0.405297  1.000000"
      ]
     },
     "execution_count": 30,
     "metadata": {},
     "output_type": "execute_result"
    }
   ],
   "source": [
    "df['y_binary'] = df['y'].map({'yes': 1, 'no': 0})\n",
    "df[['duration', 'y_binary']].corr()"
   ]
  },
  {
   "cell_type": "markdown",
   "metadata": {},
   "source": [
    "#### The correlation between duration and y_binary is about 0.405.\n",
    "\n",
    "This indicates a moderate positive relationship: as duration increases, the probability of y_binary being 1 tends to increase as well."
   ]
  },
  {
   "cell_type": "markdown",
   "metadata": {},
   "source": [
    "# Data Preparation"
   ]
  },
  {
   "cell_type": "code",
   "execution_count": 34,
   "metadata": {},
   "outputs": [],
   "source": [
    "def clean_data(df):\n",
    "    # Example: fill missing numerical values with median\n",
    "    df.fillna(df.median(), inplace=True)\n",
    "\n",
    "    return df"
   ]
  },
  {
   "cell_type": "code",
   "execution_count": 35,
   "metadata": {},
   "outputs": [],
   "source": [
    "def encode_features(df):\n",
    "    # Separate target\n",
    "    y = df['y'].map({'yes':1, 'no':0})  # convert target to binary\n",
    "    \n",
    "    # Drop target from features\n",
    "    X = df.drop(columns=['y'])\n",
    "    \n",
    "    # Identify categorical columns\n",
    "    cat_cols = X.select_dtypes(include=['object']).columns.tolist()\n",
    "    \n",
    "    # One-hot encode categorical variables\n",
    "    X = pd.get_dummies(X, columns=cat_cols, drop_first=True)\n",
    "    \n",
    "    return X, y"
   ]
  },
  {
   "cell_type": "code",
   "execution_count": 36,
   "metadata": {},
   "outputs": [],
   "source": [
    "def scale_features(X_train, X_test):\n",
    "    scaler = StandardScaler()\n",
    "    X_train_scaled = scaler.fit_transform(X_train)\n",
    "    X_test_scaled = scaler.transform(X_test)\n",
    "    \n",
    "    return X_train_scaled, X_test_scaled"
   ]
  },
  {
   "cell_type": "code",
   "execution_count": 37,
   "metadata": {},
   "outputs": [],
   "source": [
    "def split_data(X, y):\n",
    "    X_train, X_test, y_train, y_test = train_test_split(\n",
    "        X, y, test_size=0.2, random_state=42, stratify=y)\n",
    "    return X_train, X_test, y_train, y_test"
   ]
  },
  {
   "cell_type": "code",
   "execution_count": 38,
   "metadata": {},
   "outputs": [],
   "source": [
    "def balance_data(X_train, y_train):\n",
    "    smote = SMOTE(random_state=42)\n",
    "    X_resampled, y_resampled = smote.fit_resample(X_train, y_train)\n",
    "    return X_resampled, y_resampled"
   ]
  },
  {
   "cell_type": "code",
   "execution_count": 41,
   "metadata": {},
   "outputs": [],
   "source": [
    "def main():\n",
    "    # Load dataset from your raw data folder (use raw string for Windows paths)\n",
    "    df = pd.read_csv(r\"C:\\Users\\MICHAEL\\Desktop\\Azubi Project\\Bank-Term-Deposit-Predictor\\data\\raw\\bank-additional-full.csv\")\n",
    "    \n",
    "    # 1. Clean data\n",
    "    df = clean_data(df)\n",
    "    \n",
    "    # 2. Encode features\n",
    "    X, y = encode_features(df)\n",
    "    \n",
    "    # 3. Split data\n",
    "    X_train, X_test, y_train, y_test = split_data(X, y)\n",
    "    \n",
    "    # 4. Scale features\n",
    "    X_train_scaled, X_test_scaled = scale_features(X_train, X_test)\n",
    "    \n",
    "    # 5. Balance training data\n",
    "    X_train_balanced, y_train_balanced = balance_data(X_train_scaled, y_train)\n",
    "    \n",
    "    # Save processed data files to 'data/processed'\n",
    "    import os\n",
    "    os.makedirs(r\"C:\\Users\\MICHAEL\\Desktop\\Azubi Project\\Bank-Term-Deposit-Predictor\\data\\processed\", exist_ok=True)\n",
    "    \n",
    "    pd.DataFrame(X_train_balanced).to_csv(r\"C:\\Users\\MICHAEL\\Desktop\\Azubi Project\\Bank-Term-Deposit-Predictor\\data\\processed\\X_train_balanced.csv\", index=False)\n",
    "    pd.DataFrame(y_train_balanced).to_csv(r\"C:\\Users\\MICHAEL\\Desktop\\Azubi Project\\Bank-Term-Deposit-Predictor\\data\\processed\\y_train_balanced.csv\", index=False)\n",
    "    pd.DataFrame(X_test_scaled).to_csv(r\"C:\\Users\\MICHAEL\\Desktop\\Azubi Project\\Bank-Term-Deposit-Predictor\\data\\processed\\X_test_scaled.csv\", index=False)\n",
    "    y_test.to_csv(r\"C:\\Users\\MICHAEL\\Desktop\\Azubi Project\\Bank-Term-Deposit-Predictor\\data\\processed\\y_test.csv\", index=False)\n",
    "    \n",
    "    return X_train_balanced, X_test_scaled, y_train_balanced, y_test\n"
   ]
  },
  {
   "cell_type": "markdown",
   "metadata": {},
   "source": [
    "# Modeling"
   ]
  },
  {
   "cell_type": "code",
   "execution_count": 42,
   "metadata": {},
   "outputs": [],
   "source": [
    "def train_logistic_regression(X_train, y_train):\n",
    "    lr = LogisticRegression(max_iter=1000, random_state=42)\n",
    "    lr.fit(X_train, y_train)\n",
    "    return lr"
   ]
  },
  {
   "cell_type": "code",
   "execution_count": 43,
   "metadata": {},
   "outputs": [],
   "source": [
    "def train_random_forest(X_train, y_train):\n",
    "    rf = RandomForestClassifier(random_state=42)\n",
    "    rf.fit(X_train, y_train)\n",
    "    return rf"
   ]
  },
  {
   "cell_type": "code",
   "execution_count": 44,
   "metadata": {},
   "outputs": [],
   "source": [
    "def train_xgboost(X_train, y_train):\n",
    "    xgb = XGBClassifier(use_label_encoder=False, eval_metric='logloss', random_state=42)\n",
    "    xgb.fit(X_train, y_train)\n",
    "    return xgb"
   ]
  },
  {
   "cell_type": "code",
   "execution_count": 55,
   "metadata": {},
   "outputs": [],
   "source": [
    "def main(X_train, y_train, X_test, y_test):\n",
    "    # Train models\n",
    "    lr_model = train_logistic_regression(X_train, y_train)\n",
    "    rf_model = train_random_forest(X_train, y_train)\n",
    "    xgb_model = train_xgboost(X_train, y_train)\n",
    "    \n",
    "    # Evaluate on test set\n",
    "    for name, model in [('Logistic Regression', lr_model), ('Random Forest', rf_model), ('XGBoost', xgb_model)]:\n",
    "        y_pred = model.predict(X_test)\n",
    "        print(f\"--- {name} Classification Report ---\")\n",
    "        print(classification_report(y_test, y_pred))\n",
    "    \n",
    "    # Ensure models directory exists\n",
    "    os.makedirs('models', exist_ok=True)\n",
    "    \n",
    "    # Save models\n",
    "    joblib.dump(lr_model, 'models/logistic_regression.joblib')\n",
    "    joblib.dump(rf_model, 'models/random_forest.joblib')\n",
    "    joblib.dump(xgb_model, 'models/xgboost.joblib')\n",
    "\n",
    "\n",
    "    # Prepare data (returns balanced and scaled train/test splits)\n",
    "    X_train_bal, X_test_scaled, y_train_bal, y_test = prep_main()\n",
    "    \n",
    "    main(X_train_bal, y_train_bal, X_test_scaled, y_test)"
   ]
  },
  {
   "cell_type": "markdown",
   "metadata": {},
   "source": [
    "# Evaluation"
   ]
  },
  {
   "cell_type": "code",
   "execution_count": 57,
   "metadata": {},
   "outputs": [],
   "source": [
    "# Logistic Regression hyperparameters\n",
    "lr_params = {\n",
    "    'C': uniform(0.01, 10),       # Regularization strength\n",
    "    'penalty': ['l1', 'l2'],      # Type of regularization\n",
    "    'solver': ['liblinear'],      # Solver compatible with l1 and l2\n",
    "}\n",
    "\n",
    "# Random Forest hyperparameters\n",
    "rf_params = {\n",
    "    'n_estimators': randint(50, 300),\n",
    "    'max_depth': randint(3, 20),\n",
    "    'min_samples_split': randint(2, 10),\n",
    "    'min_samples_leaf': randint(1, 10),\n",
    "    'bootstrap': [True, False],\n",
    "}\n",
    "\n",
    "# XGBoost hyperparameters\n",
    "xgb_params = {\n",
    "    'n_estimators': randint(50, 300),\n",
    "    'max_depth': randint(3, 15),\n",
    "    'learning_rate': uniform(0.01, 0.3),\n",
    "    'subsample': uniform(0.5, 0.5),\n",
    "    'colsample_bytree': uniform(0.5, 0.5),\n",
    "}"
   ]
  },
  {
   "cell_type": "markdown",
   "metadata": {},
   "source": [
    "#### Define a tuning function"
   ]
  },
  {
   "cell_type": "code",
   "execution_count": 58,
   "metadata": {},
   "outputs": [],
   "source": [
    "def tune_model(model, param_dist, X_train, y_train, n_iter=20, cv=3):\n",
    "    search = RandomizedSearchCV(\n",
    "        estimator=model,\n",
    "        param_distributions=param_dist,\n",
    "        n_iter=n_iter,\n",
    "        scoring='f1',       # You can change to 'accuracy' or another metric\n",
    "        cv=cv,\n",
    "        verbose=1,\n",
    "        random_state=42,\n",
    "        n_jobs=-1\n",
    "    )\n",
    "    search.fit(X_train, y_train)\n",
    "    print(f\"Best params for {model.__class__.__name__}: {search.best_params_}\")\n",
    "    print(f\"Best CV F1 score: {search.best_score_:.4f}\")\n",
    "    return search.best_estimator_"
   ]
  },
  {
   "cell_type": "markdown",
   "metadata": {},
   "source": [
    "#### Run Tuning for each model"
   ]
  },
  {
   "cell_type": "code",
   "execution_count": 59,
   "metadata": {},
   "outputs": [
    {
     "name": "stdout",
     "output_type": "stream",
     "text": [
      "Fitting 3 folds for each of 20 candidates, totalling 60 fits\n",
      "Best params for LogisticRegression: {'C': np.float64(1.4049386065204184), 'penalty': 'l2', 'solver': 'liblinear'}\n",
      "Best CV F1 score: 0.8814\n",
      "Fitting 3 folds for each of 20 candidates, totalling 60 fits\n",
      "Best params for RandomForestClassifier: {'bootstrap': False, 'max_depth': 19, 'min_samples_leaf': 4, 'min_samples_split': 3, 'n_estimators': 153}\n",
      "Best CV F1 score: 0.9394\n",
      "Fitting 3 folds for each of 20 candidates, totalling 60 fits\n",
      "Best params for XGBClassifier: {'colsample_bytree': np.float64(0.9162213204002109), 'learning_rate': np.float64(0.07370173320348283), 'max_depth': 14, 'n_estimators': 70, 'subsample': np.float64(0.8087407548138583)}\n",
      "Best CV F1 score: 0.9319\n"
     ]
    }
   ],
   "source": [
    "# Logistic Regression\n",
    "lr_best = tune_model(LogisticRegression(), lr_params, X_train_bal, y_train_bal)\n",
    "\n",
    "# Random Forest\n",
    "rf_best = tune_model(RandomForestClassifier(random_state=42), rf_params, X_train_bal, y_train_bal)\n",
    "\n",
    "# XGBoost\n",
    "xgb_best = tune_model(xgb.XGBClassifier(use_label_encoder=False, eval_metric='logloss', random_state=42), xgb_params, X_train_bal, y_train_bal)\n"
   ]
  },
  {
   "cell_type": "markdown",
   "metadata": {},
   "source": [
    "Logistic Regression best F1: ~0.88\n",
    "\n",
    "Random Forest best F1: ~0.94 (top performer)\n",
    "\n",
    "XGBoost best F1: ~0.93"
   ]
  },
  {
   "cell_type": "code",
   "execution_count": 60,
   "metadata": {},
   "outputs": [
    {
     "name": "stdout",
     "output_type": "stream",
     "text": [
      "--- Tuned Logistic Regression Classification Report ---\n",
      "              precision    recall  f1-score   support\n",
      "\n",
      "           0       0.98      0.85      0.91      5326\n",
      "           1       0.45      0.85      0.59       772\n",
      "\n",
      "    accuracy                           0.85      6098\n",
      "   macro avg       0.71      0.85      0.75      6098\n",
      "weighted avg       0.91      0.85      0.87      6098\n",
      "\n"
     ]
    },
    {
     "data": {
      "image/png": "[encoded data removed]",
      "text/plain": [
       "<Figure size 500x400 with 2 Axes>"
      ]
     },
     "metadata": {},
     "output_type": "display_data"
    },
    {
     "name": "stdout",
     "output_type": "stream",
     "text": [
      "--- Tuned Random Forest Classification Report ---\n",
      "              precision    recall  f1-score   support\n",
      "\n",
      "           0       0.95      0.91      0.93      5326\n",
      "           1       0.54      0.70      0.61       772\n",
      "\n",
      "    accuracy                           0.89      6098\n",
      "   macro avg       0.75      0.81      0.77      6098\n",
      "weighted avg       0.90      0.89      0.89      6098\n",
      "\n"
     ]
    },
    {
     "data": {
      "image/png": "[encoded data removed]",
      "text/plain": [
       "<Figure size 500x400 with 2 Axes>"
      ]
     },
     "metadata": {},
     "output_type": "display_data"
    },
    {
     "name": "stdout",
     "output_type": "stream",
     "text": [
      "--- Tuned XGBoost Classification Report ---\n",
      "              precision    recall  f1-score   support\n",
      "\n",
      "           0       0.95      0.93      0.94      5326\n",
      "           1       0.56      0.64      0.60       772\n",
      "\n",
      "    accuracy                           0.89      6098\n",
      "   macro avg       0.76      0.78      0.77      6098\n",
      "weighted avg       0.90      0.89      0.89      6098\n",
      "\n"
     ]
    },
    {
     "data": {
      "image/png": "[encoded data removed]",
      "text/plain": [
       "<Figure size 500x400 with 2 Axes>"
      ]
     },
     "metadata": {},
     "output_type": "display_data"
    }
   ],
   "source": [
    "def evaluate_model(model, X_test, y_test, model_name):\n",
    "    y_pred = model.predict(X_test)\n",
    "    print(f\"--- {model_name} Classification Report ---\")\n",
    "    print(classification_report(y_test, y_pred))\n",
    "    \n",
    "    cm = confusion_matrix(y_test, y_pred)\n",
    "    plt.figure(figsize=(5,4))\n",
    "    sns.heatmap(cm, annot=True, fmt='d', cmap='Blues')\n",
    "    plt.title(f\"{model_name} Confusion Matrix\")\n",
    "    plt.xlabel(\"Predicted\")\n",
    "    plt.ylabel(\"Actual\")\n",
    "    plt.show()\n",
    "\n",
    "evaluate_model(lr_best, X_test_scaled, y_test, 'Tuned Logistic Regression')\n",
    "evaluate_model(rf_best, X_test_scaled, y_test, 'Tuned Random Forest')\n",
    "evaluate_model(xgb_best, X_test_scaled, y_test, 'Tuned XGBoost')"
   ]
  },
  {
   "cell_type": "markdown",
   "metadata": {},
   "source": [
    "#### Findings\n",
    "\n",
    "Random Forest and XGBoost show balanced improvements in precision and recall for the positive class (subscribers), with Random Forest slightly better in recall and F1.\n",
    "\n",
    "Logistic Regression has strong recall but lower precision on positive class, which means more false positives."
   ]
  },
  {
   "cell_type": "markdown",
   "metadata": {},
   "source": [
    "##### Confusion Matrix"
   ]
  },
  {
   "cell_type": "code",
   "execution_count": 64,
   "metadata": {},
   "outputs": [
    {
     "data": {
      "image/png": "[encoded data removed]",
      "text/plain": [
       "<Figure size 1800x500 with 3 Axes>"
      ]
     },
     "metadata": {},
     "output_type": "display_data"
    }
   ],
   "source": [
    "def plot_confusion_matrices(models, X_test, y_test, model_names):\n",
    "    plt.figure(figsize=(18, 5))\n",
    "    \n",
    "    for i, (model, name) in enumerate(zip(models, model_names), 1):\n",
    "        y_pred = model.predict(X_test)\n",
    "        cm = confusion_matrix(y_test, y_pred)\n",
    "        disp = ConfusionMatrixDisplay(confusion_matrix=cm, display_labels=model.classes_)\n",
    "        \n",
    "        plt.subplot(1, len(models), i)\n",
    "        disp.plot(cmap=plt.cm.Blues, ax=plt.gca(), colorbar=False)\n",
    "        plt.title(f'Confusion Matrix: {name}')\n",
    "        plt.xlabel('Predicted label')\n",
    "        plt.ylabel('True label')\n",
    "    \n",
    "    plt.tight_layout()\n",
    "    plt.show()\n",
    "\n",
    "# Replace these with your actual tuned models\n",
    "models = [lr_best, rf_best, xgb_best]\n",
    "model_names = ['Tuned Logistic Regression', 'Tuned Random Forest', 'Tuned XGBoost']\n",
    "\n",
    "plot_confusion_matrices(models, X_test_scaled, y_test, model_names)"
   ]
  },
  {
   "cell_type": "markdown",
   "metadata": {},
   "source": [
    "#### What does this mean?\n",
    "\n",
    "Logistic Regression has more false positives but fewer false negatives — it predicts more positives but with some risk of false alarms. This is useful if catching more positive cases (subscribers) matters even at some false alarm cost.\n",
    "\n",
    "Random Forest balances better, reducing false positives but with a higher false negative rate. It misses more positives but reduces false alarms.\n",
    "\n",
    "XGBoost is the most conservative, with lowest false positives but highest false negatives — it misses more true positives but rarely raises false alarms."
   ]
  },
  {
   "cell_type": "code",
   "execution_count": 67,
   "metadata": {},
   "outputs": [
    {
     "name": "stdout",
     "output_type": "stream",
     "text": [
      "\n",
      "Model Evaluation Summary:\n",
      "\n",
      "                           Precision  Recall  F1 Score\n",
      "Tuned Logistic Regression     0.4488  0.8510    0.5877\n",
      "Tuned Random Forest           0.5433  0.6995    0.6116\n",
      "Tuned XGBoost                 0.5649  0.6373    0.5989\n"
     ]
    }
   ],
   "source": [
    "# Define raw confusion matrices (TN, FP, FN, TP) for each model\n",
    "conf_matrices = {\n",
    "    'Tuned Logistic Regression': np.array([[4519, 807], [115, 657]]),\n",
    "    'Tuned Random Forest': np.array([[4872, 454], [232, 540]]),\n",
    "    'Tuned XGBoost': np.array([[4947, 379], [280, 492]])\n",
    "}\n",
    "\n",
    "# Calculate evaluation metrics from confusion matrices\n",
    "def compute_metrics(cm):\n",
    "    TN, FP = cm[0]\n",
    "    FN, TP = cm[1]\n",
    "    precision = TP / (TP + FP) if (TP + FP) > 0 else 0\n",
    "    recall = TP / (TP + FN) if (TP + FN) > 0 else 0\n",
    "    f1_score = 2 * (precision * recall) / (precision + recall) if (precision + recall) > 0 else 0\n",
    "    return precision, recall, f1_score\n",
    "\n",
    "metrics = {}\n",
    "\n",
    "for model_name, cm in conf_matrices.items():\n",
    "    precision, recall, f1 = compute_metrics(cm)\n",
    "    metrics[model_name] = {\n",
    "        'Precision': round(precision, 4),\n",
    "        'Recall': round(recall, 4),\n",
    "        'F1 Score': round(f1, 4)\n",
    "    }\n",
    "\n",
    "# Display metrics table\n",
    "metrics_df = pd.DataFrame(metrics).T\n",
    "print(\"\\nModel Evaluation Summary:\\n\")\n",
    "print(metrics_df)"
   ]
  },
  {
   "cell_type": "markdown",
   "metadata": {},
   "source": [
    "#### Save report"
   ]
  },
  {
   "cell_type": "code",
   "execution_count": 70,
   "metadata": {},
   "outputs": [],
   "source": [
    "import os\n",
    "os.makedirs('bank-term-deposit-predictor/reports', exist_ok=True)\n"
   ]
  },
  {
   "cell_type": "code",
   "execution_count": 71,
   "metadata": {},
   "outputs": [
    {
     "name": "stdout",
     "output_type": "stream",
     "text": [
      "✅ Confusion matrices saved to: bank-term-deposit-predictor/reports/confusion_matrices.pdf\n"
     ]
    }
   ],
   "source": [
    "# Save the confusion matrices to PDF\n",
    "output_path = 'bank-term-deposit-predictor/reports/confusion_matrices.pdf'\n",
    "fig.savefig(output_path, format='pdf')\n",
    "print(f\"✅ Confusion matrices saved to: {output_path}\")\n"
   ]
  }
 ],
 "metadata": {
  "kernelspec": {
   "display_name": "venv",
   "language": "python",
   "name": "python3"
  },
  "language_info": {
   "codemirror_mode": {
    "name": "ipython",
    "version": 3
   },
   "file_extension": ".py",
   "mimetype": "text/x-python",
   "name": "python",
   "nbconvert_exporter": "python",
   "pygments_lexer": "ipython3",
   "version": "3.10.11"
  }
 },
 "nbformat": 4,
 "nbformat_minor": 2
}
